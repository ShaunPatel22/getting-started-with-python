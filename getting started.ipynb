{
 "cells": [
  {
   "cell_type": "code",
   "execution_count": 4,
   "id": "d9cab42f",
   "metadata": {},
   "outputs": [
    {
     "data": {
      "text/plain": [
       "'Today you have flight at 6:00 pm.'"
      ]
     },
     "execution_count": 4,
     "metadata": {},
     "output_type": "execute_result"
    }
   ],
   "source": [
    "def remind (event):\n",
    "    return 'Today you have ' + event + ' at 6:00 pm.'\n",
    "\n",
    "\n",
    "remind ('piano lesson')\n",
    "remind ('movie')\n",
    "remind ('flight')"
   ]
  },
  {
   "cell_type": "code",
   "execution_count": 3,
   "id": "17b68a30",
   "metadata": {},
   "outputs": [
    {
     "data": {
      "text/plain": [
       "169"
      ]
     },
     "execution_count": 3,
     "metadata": {},
     "output_type": "execute_result"
    }
   ],
   "source": [
    "def multi (x,y):\n",
    "    return x*y\n",
    "\n",
    "multi(2,5)\n",
    "multi(123456789,9876521)\n",
    "multi(13,13)"
   ]
  },
  {
   "cell_type": "code",
   "execution_count": null,
   "id": "07035aa2",
   "metadata": {},
   "outputs": [],
   "source": []
  },
  {
   "cell_type": "code",
   "execution_count": null,
   "id": "e95ead0d",
   "metadata": {},
   "outputs": [],
   "source": []
  }
 ],
 "metadata": {
  "kernelspec": {
   "display_name": "Python 3 (ipykernel)",
   "language": "python",
   "name": "python3"
  },
  "language_info": {
   "codemirror_mode": {
    "name": "ipython",
    "version": 3
   },
   "file_extension": ".py",
   "mimetype": "text/x-python",
   "name": "python",
   "nbconvert_exporter": "python",
   "pygments_lexer": "ipython3",
   "version": "3.9.12"
  }
 },
 "nbformat": 4,
 "nbformat_minor": 5
}
